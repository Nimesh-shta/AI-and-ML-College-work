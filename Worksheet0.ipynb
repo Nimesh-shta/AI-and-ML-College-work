{
  "nbformat": 4,
  "nbformat_minor": 0,
  "metadata": {
    "colab": {
      "provenance": []
    },
    "kernelspec": {
      "name": "python3",
      "display_name": "Python 3"
    },
    "language_info": {
      "name": "python"
    }
  },
  "cells": [
    {
      "cell_type": "markdown",
      "source": [
        "Problem 1: Array Creation"
      ],
      "metadata": {
        "id": "3iYPjFG8moOf"
      }
    },
    {
      "cell_type": "code",
      "execution_count": 1,
      "metadata": {
        "id": "TInTRobci-rs"
      },
      "outputs": [],
      "source": [
        "import numpy as np"
      ]
    },
    {
      "cell_type": "markdown",
      "source": [
        "1. Initialize an empty array with size 2X2"
      ],
      "metadata": {
        "id": "HLd_cIEKmmBd"
      }
    },
    {
      "cell_type": "code",
      "source": [
        "empty_array = np.empty((2, 2))\n",
        "print(\"Empty Array:\\n\", empty_array)"
      ],
      "metadata": {
        "colab": {
          "base_uri": "https://localhost:8080/"
        },
        "id": "kvUuRmqFmOw5",
        "outputId": "bbd11e73-c443-4ebf-f0fb-c28b6f17c4dd"
      },
      "execution_count": 2,
      "outputs": [
        {
          "output_type": "stream",
          "name": "stdout",
          "text": [
            "Empty Array:\n",
            " [[1.80509285e-316 0.00000000e+000]\n",
            " [1.74736711e-316 1.75037656e-316]]\n"
          ]
        }
      ]
    },
    {
      "cell_type": "markdown",
      "source": [
        "2. Initialize an all-one array with size 4X2"
      ],
      "metadata": {
        "id": "QjPxuB1JmrMg"
      }
    },
    {
      "cell_type": "code",
      "source": [
        "ones_array = np.ones((4, 2))\n",
        "print(\"All-One Array:\\n\", ones_array)"
      ],
      "metadata": {
        "colab": {
          "base_uri": "https://localhost:8080/"
        },
        "id": "u5qduY5ymR-Q",
        "outputId": "1fa4d21c-a7f8-4ff0-dc05-d1e06a79c062"
      },
      "execution_count": 3,
      "outputs": [
        {
          "output_type": "stream",
          "name": "stdout",
          "text": [
            "All-One Array:\n",
            " [[1. 1.]\n",
            " [1. 1.]\n",
            " [1. 1.]\n",
            " [1. 1.]]\n"
          ]
        }
      ]
    },
    {
      "cell_type": "markdown",
      "source": [
        "3. Return a new array of given shape and type, filled with fill value"
      ],
      "metadata": {
        "id": "Xyp5N9Pymtp-"
      }
    },
    {
      "cell_type": "code",
      "source": [
        "fill_value_array = np.full((3, 3), 7)\n",
        "print(\"Filled Array:\\n\", fill_value_array)"
      ],
      "metadata": {
        "colab": {
          "base_uri": "https://localhost:8080/"
        },
        "id": "hpbsXSVWmQrb",
        "outputId": "8ad7c66d-412e-4b75-f4be-16fa12f5282a"
      },
      "execution_count": 4,
      "outputs": [
        {
          "output_type": "stream",
          "name": "stdout",
          "text": [
            "Filled Array:\n",
            " [[7 7 7]\n",
            " [7 7 7]\n",
            " [7 7 7]]\n"
          ]
        }
      ]
    },
    {
      "cell_type": "markdown",
      "source": [
        "4. Return a new array of zeros with the same shape and type as a given array"
      ],
      "metadata": {
        "id": "JPBZrmfKmvu7"
      }
    },
    {
      "cell_type": "code",
      "source": [
        "example_array = np.array([[1, 2, 3], [4, 5, 6]])\n",
        "zeros_like_array = np.zeros_like(example_array)\n",
        "print(\"Zeros Like Array:\\n\", zeros_like_array)"
      ],
      "metadata": {
        "colab": {
          "base_uri": "https://localhost:8080/"
        },
        "id": "JSRXuoqMmTsZ",
        "outputId": "2be822f7-7d11-45ed-d4a3-0d81cc810603"
      },
      "execution_count": 5,
      "outputs": [
        {
          "output_type": "stream",
          "name": "stdout",
          "text": [
            "Zeros Like Array:\n",
            " [[0 0 0]\n",
            " [0 0 0]]\n"
          ]
        }
      ]
    },
    {
      "cell_type": "markdown",
      "source": [
        "5. Return a new array of ones with the same shape and type as a given array"
      ],
      "metadata": {
        "id": "jkIxc6AWmxqo"
      }
    },
    {
      "cell_type": "code",
      "source": [
        "ones_like_array = np.ones_like(example_array)\n",
        "print(\"Ones Like Array:\\n\", ones_like_array)"
      ],
      "metadata": {
        "colab": {
          "base_uri": "https://localhost:8080/"
        },
        "id": "QAgNTusUmWBB",
        "outputId": "9767349c-f9e7-4fd3-b717-8a089cdd41c3"
      },
      "execution_count": 6,
      "outputs": [
        {
          "output_type": "stream",
          "name": "stdout",
          "text": [
            "Ones Like Array:\n",
            " [[1 1 1]\n",
            " [1 1 1]]\n"
          ]
        }
      ]
    },
    {
      "cell_type": "markdown",
      "source": [
        " 6. Convert a list to a NumPy array"
      ],
      "metadata": {
        "id": "X7UxRVCgmz7U"
      }
    },
    {
      "cell_type": "code",
      "source": [
        "new_list = [1, 2, 3, 4]\n",
        "numpy_array = np.array(new_list)\n",
        "print(\"Converted NumPy Array:\\n\", numpy_array)"
      ],
      "metadata": {
        "colab": {
          "base_uri": "https://localhost:8080/"
        },
        "id": "4J816-n_mXi3",
        "outputId": "e00e58ac-e0e0-4449-f070-2e205a9e5841"
      },
      "execution_count": 7,
      "outputs": [
        {
          "output_type": "stream",
          "name": "stdout",
          "text": [
            "Converted NumPy Array:\n",
            " [1 2 3 4]\n"
          ]
        }
      ]
    },
    {
      "cell_type": "markdown",
      "source": [
        "Problem 2: Array Manipulation"
      ],
      "metadata": {
        "id": "6JFRY0kCnOeZ"
      }
    },
    {
      "cell_type": "code",
      "source": [
        "import numpy as np"
      ],
      "metadata": {
        "id": "Woo4pZZMniWP"
      },
      "execution_count": 8,
      "outputs": []
    },
    {
      "cell_type": "markdown",
      "source": [
        "1. Create an array with values ranging from 10 to 49"
      ],
      "metadata": {
        "id": "40R8t-uKnXTZ"
      }
    },
    {
      "cell_type": "code",
      "source": [
        "range_array = np.arange(10, 50)\n",
        "print(\"Range Array:\\n\", range_array)"
      ],
      "metadata": {
        "colab": {
          "base_uri": "https://localhost:8080/"
        },
        "id": "vZuzkFY2nWPs",
        "outputId": "9a83e9f7-02c2-4cc9-ce38-b90dca5e5cf5"
      },
      "execution_count": 9,
      "outputs": [
        {
          "output_type": "stream",
          "name": "stdout",
          "text": [
            "Range Array:\n",
            " [10 11 12 13 14 15 16 17 18 19 20 21 22 23 24 25 26 27 28 29 30 31 32 33\n",
            " 34 35 36 37 38 39 40 41 42 43 44 45 46 47 48 49]\n"
          ]
        }
      ]
    },
    {
      "cell_type": "markdown",
      "source": [
        "2. Create a 3X3 matrix with values ranging from 0 to 8"
      ],
      "metadata": {
        "id": "kIUscGJTnax_"
      }
    },
    {
      "cell_type": "code",
      "source": [
        "matrix_3x3 = np.arange(9).reshape(3, 3)\n",
        "print(\"3x3 Matrix:\\n\", matrix_3x3)"
      ],
      "metadata": {
        "colab": {
          "base_uri": "https://localhost:8080/"
        },
        "id": "qh182fiBndTb",
        "outputId": "8a369b03-e3e7-4ecd-ff70-0e9e64d77907"
      },
      "execution_count": 10,
      "outputs": [
        {
          "output_type": "stream",
          "name": "stdout",
          "text": [
            "3x3 Matrix:\n",
            " [[0 1 2]\n",
            " [3 4 5]\n",
            " [6 7 8]]\n"
          ]
        }
      ]
    },
    {
      "cell_type": "markdown",
      "source": [
        "3. Create a 3X3 identity matrix"
      ],
      "metadata": {
        "id": "lJZaBztpnlMJ"
      }
    },
    {
      "cell_type": "code",
      "source": [
        "identity_matrix = np.eye(3)\n",
        "print(\"Identity Matrix:\\n\", identity_matrix)"
      ],
      "metadata": {
        "colab": {
          "base_uri": "https://localhost:8080/"
        },
        "id": "3w6oWDRdnozb",
        "outputId": "b4d8bcdc-8be9-485c-b997-53de35582b5e"
      },
      "execution_count": 11,
      "outputs": [
        {
          "output_type": "stream",
          "name": "stdout",
          "text": [
            "Identity Matrix:\n",
            " [[1. 0. 0.]\n",
            " [0. 1. 0.]\n",
            " [0. 0. 1.]]\n"
          ]
        }
      ]
    },
    {
      "cell_type": "markdown",
      "source": [
        "4. Create a random array of size 30 and find the mean"
      ],
      "metadata": {
        "id": "7ho0yPG2nrh9"
      }
    },
    {
      "cell_type": "code",
      "source": [
        "random_array = np.random.random(30)\n",
        "print(\"Random Array Mean:\\n\", random_array.mean())"
      ],
      "metadata": {
        "colab": {
          "base_uri": "https://localhost:8080/"
        },
        "id": "lo1fFJ4BntLj",
        "outputId": "0ab8548c-844c-437a-ff6c-2e868024ce48"
      },
      "execution_count": 12,
      "outputs": [
        {
          "output_type": "stream",
          "name": "stdout",
          "text": [
            "Random Array Mean:\n",
            " 0.3790937821249201\n"
          ]
        }
      ]
    },
    {
      "cell_type": "markdown",
      "source": [
        "5. Create a 10X10 array with random values and find the min and max values"
      ],
      "metadata": {
        "id": "HqkhO5Kbnv75"
      }
    },
    {
      "cell_type": "code",
      "source": [
        "random_matrix = np.random.random((10, 10))\n",
        "print(\"Min Value:\", random_matrix.min(), \"Max Value:\", random_matrix.max())"
      ],
      "metadata": {
        "colab": {
          "base_uri": "https://localhost:8080/"
        },
        "id": "6V5Pqv-snxQS",
        "outputId": "9a870045-6bf7-4bb9-dde4-24b87d04387a"
      },
      "execution_count": 13,
      "outputs": [
        {
          "output_type": "stream",
          "name": "stdout",
          "text": [
            "Min Value: 0.054561763760777704 Max Value: 0.9985392874927397\n"
          ]
        }
      ]
    },
    {
      "cell_type": "markdown",
      "source": [
        "6. Create a zero array of size 10 and replace 5th element with 1"
      ],
      "metadata": {
        "id": "xs5B21QYn0Td"
      }
    },
    {
      "cell_type": "code",
      "source": [
        "zero_array = np.zeros(10)\n",
        "zero_array[4] = 1\n",
        "print(\"Modified Zero Array:\\n\", zero_array)"
      ],
      "metadata": {
        "colab": {
          "base_uri": "https://localhost:8080/"
        },
        "id": "Nt1osV1pn2Ky",
        "outputId": "e854311a-4066-4631-a59e-8ff3cb9f9887"
      },
      "execution_count": 14,
      "outputs": [
        {
          "output_type": "stream",
          "name": "stdout",
          "text": [
            "Modified Zero Array:\n",
            " [0. 0. 0. 0. 1. 0. 0. 0. 0. 0.]\n"
          ]
        }
      ]
    },
    {
      "cell_type": "markdown",
      "source": [
        "7. Reverse an array"
      ],
      "metadata": {
        "id": "BCLMJh6Rn6BC"
      }
    },
    {
      "cell_type": "code",
      "source": [
        "arr = np.array([1, 2, 0, 0, 4, 0])\n",
        "reversed_arr = arr[::-1]\n",
        "print(\"Reversed Array:\\n\", reversed_arr)"
      ],
      "metadata": {
        "colab": {
          "base_uri": "https://localhost:8080/"
        },
        "id": "bN5vdmH7n4uK",
        "outputId": "473b8965-d75d-40ce-ad09-6fcf2d45ecf2"
      },
      "execution_count": 16,
      "outputs": [
        {
          "output_type": "stream",
          "name": "stdout",
          "text": [
            "Reversed Array:\n",
            " [0 4 0 0 2 1]\n"
          ]
        }
      ]
    },
    {
      "cell_type": "markdown",
      "source": [
        " 8. Create a 2D array with 1 on the border and 0 inside"
      ],
      "metadata": {
        "id": "u_DaUxDhn9qh"
      }
    },
    {
      "cell_type": "code",
      "source": [
        "border_array = np.ones((5, 5))\n",
        "border_array[1:-1, 1:-1] = 0\n",
        "print(\"Border Array:\\n\", border_array)"
      ],
      "metadata": {
        "colab": {
          "base_uri": "https://localhost:8080/"
        },
        "id": "agOK8UJgn_9x",
        "outputId": "1e5e41fe-46d3-415d-9d90-5bf1ab4fac62"
      },
      "execution_count": 15,
      "outputs": [
        {
          "output_type": "stream",
          "name": "stdout",
          "text": [
            "Border Array:\n",
            " [[1. 1. 1. 1. 1.]\n",
            " [1. 0. 0. 0. 1.]\n",
            " [1. 0. 0. 0. 1.]\n",
            " [1. 0. 0. 0. 1.]\n",
            " [1. 1. 1. 1. 1.]]\n"
          ]
        }
      ]
    },
    {
      "cell_type": "markdown",
      "source": [
        "9. Create an 8X8 matrix and fill it with a checkerboard pattern"
      ],
      "metadata": {
        "id": "0pbCOnRCoDSL"
      }
    },
    {
      "cell_type": "code",
      "source": [
        "checkerboard = np.zeros((8, 8), dtype=int)\n",
        "checkerboard[1::2, ::2] = 1\n",
        "checkerboard[::2, 1::2] = 1\n",
        "print(\"Checkerboard Pattern:\\n\", checkerboard)\n"
      ],
      "metadata": {
        "colab": {
          "base_uri": "https://localhost:8080/"
        },
        "id": "wC1MGDCsoC5e",
        "outputId": "223136cd-65bb-495d-fc96-3c428529e9a7"
      },
      "execution_count": 17,
      "outputs": [
        {
          "output_type": "stream",
          "name": "stdout",
          "text": [
            "Checkerboard Pattern:\n",
            " [[0 1 0 1 0 1 0 1]\n",
            " [1 0 1 0 1 0 1 0]\n",
            " [0 1 0 1 0 1 0 1]\n",
            " [1 0 1 0 1 0 1 0]\n",
            " [0 1 0 1 0 1 0 1]\n",
            " [1 0 1 0 1 0 1 0]\n",
            " [0 1 0 1 0 1 0 1]\n",
            " [1 0 1 0 1 0 1 0]]\n"
          ]
        }
      ]
    },
    {
      "cell_type": "markdown",
      "source": [
        "Problem 3: Array Operations"
      ],
      "metadata": {
        "id": "VkHvI1u4oHhd"
      }
    },
    {
      "cell_type": "code",
      "source": [
        "x = np.array([[1, 2], [3, 5]])\n",
        "y = np.array([[5, 6], [7, 8]])\n",
        "v = np.array([9, 10])\n",
        "w = np.array([11, 12])"
      ],
      "metadata": {
        "id": "m6G_rVR4pvXW"
      },
      "execution_count": 18,
      "outputs": []
    },
    {
      "cell_type": "markdown",
      "source": [
        "1. Add the two arrays"
      ],
      "metadata": {
        "id": "1zwdwFMOqNqv"
      }
    },
    {
      "cell_type": "code",
      "source": [
        "sum_array = x + y\n",
        "print(\"Sum of x and y:\\n\", sum_array)"
      ],
      "metadata": {
        "colab": {
          "base_uri": "https://localhost:8080/"
        },
        "id": "ftA0FN_sqQ5w",
        "outputId": "e3d45358-31b9-48aa-fc77-2c0050e08675"
      },
      "execution_count": 19,
      "outputs": [
        {
          "output_type": "stream",
          "name": "stdout",
          "text": [
            "Sum of x and y:\n",
            " [[ 6  8]\n",
            " [10 13]]\n"
          ]
        }
      ]
    },
    {
      "cell_type": "markdown",
      "source": [
        "2. Subtract the two arrays"
      ],
      "metadata": {
        "id": "bocOjeLprfDx"
      }
    },
    {
      "cell_type": "code",
      "source": [
        "diff_array = x - y\n",
        "print(\"Difference of x and y:\\n\", diff_array)"
      ],
      "metadata": {
        "colab": {
          "base_uri": "https://localhost:8080/"
        },
        "id": "FoBsX3rWrghl",
        "outputId": "1b45f08b-ac1e-40db-f29c-67108396a6f3"
      },
      "execution_count": 21,
      "outputs": [
        {
          "output_type": "stream",
          "name": "stdout",
          "text": [
            "Difference of x and y:\n",
            " [[-4 -4]\n",
            " [-4 -3]]\n"
          ]
        }
      ]
    },
    {
      "cell_type": "markdown",
      "source": [
        "3. Multiply the array with any integer"
      ],
      "metadata": {
        "id": "8Be-d_vqri5-"
      }
    },
    {
      "cell_type": "code",
      "source": [
        "scaled_array = x * 3\n",
        "print(\"Scaled x by 3:\\n\", scaled_array)"
      ],
      "metadata": {
        "colab": {
          "base_uri": "https://localhost:8080/"
        },
        "id": "eryPh6JfrkXY",
        "outputId": "2b629c70-cbea-48d3-cf03-f7fce9f1a6c4"
      },
      "execution_count": 22,
      "outputs": [
        {
          "output_type": "stream",
          "name": "stdout",
          "text": [
            "Scaled x by 3:\n",
            " [[ 3  6]\n",
            " [ 9 15]]\n"
          ]
        }
      ]
    },
    {
      "cell_type": "markdown",
      "source": [
        "4. Find the square of each element"
      ],
      "metadata": {
        "id": "7VsOWHTnsuwg"
      }
    },
    {
      "cell_type": "code",
      "source": [
        "squared_array = np.square(x)\n",
        "print(\"Squared x:\\n\", squared_array)"
      ],
      "metadata": {
        "colab": {
          "base_uri": "https://localhost:8080/"
        },
        "id": "euKgi_bxswFl",
        "outputId": "11610500-a3e2-48ec-e389-ab3a62925fe9"
      },
      "execution_count": 23,
      "outputs": [
        {
          "output_type": "stream",
          "name": "stdout",
          "text": [
            "Squared x:\n",
            " [[ 1  4]\n",
            " [ 9 25]]\n"
          ]
        }
      ]
    },
    {
      "cell_type": "markdown",
      "source": [
        "5. Find the dot product between v and w, x and v, x and y"
      ],
      "metadata": {
        "id": "JDt2pkvdsy2p"
      }
    },
    {
      "cell_type": "code",
      "source": [
        "dot_vw = np.dot(v, w)\n",
        "dot_xv = np.dot(x, v)\n",
        "dot_xy = np.dot(x, y)\n",
        "print(\"Dot Product v.w:\", dot_vw)\n",
        "print(\"Dot Product x.v:\\n\", dot_xv)\n",
        "print(\"Dot Product x.y:\\n\", dot_xy)\n"
      ],
      "metadata": {
        "colab": {
          "base_uri": "https://localhost:8080/"
        },
        "id": "1SaUJ0B7s0Pb",
        "outputId": "6dcf6f4a-8c8f-4a6a-9290-fcf34f70fa37"
      },
      "execution_count": 24,
      "outputs": [
        {
          "output_type": "stream",
          "name": "stdout",
          "text": [
            "Dot Product v.w: 219\n",
            "Dot Product x.v:\n",
            " [29 77]\n",
            "Dot Product x.y:\n",
            " [[19 22]\n",
            " [50 58]]\n"
          ]
        }
      ]
    },
    {
      "cell_type": "markdown",
      "source": [
        " 6. Concatenate x and y along rows, and concatenate v and w along columns"
      ],
      "metadata": {
        "id": "ulijE-JRs6n4"
      }
    },
    {
      "cell_type": "code",
      "source": [
        "concat_xy = np.concatenate((x, y), axis=0)\n",
        "concat_vw = np.vstack((v, w))\n",
        "print(\"Concatenated x and y along rows:\\n\", concat_xy)\n",
        "print(\"Concatenated v and w along columns:\\n\", concat_vw)"
      ],
      "metadata": {
        "colab": {
          "base_uri": "https://localhost:8080/"
        },
        "id": "ytKk5SDbs8Qo",
        "outputId": "cca18dc4-a7d4-4772-acc9-69e9ec6dab56"
      },
      "execution_count": 25,
      "outputs": [
        {
          "output_type": "stream",
          "name": "stdout",
          "text": [
            "Concatenated x and y along rows:\n",
            " [[1 2]\n",
            " [3 5]\n",
            " [5 6]\n",
            " [7 8]]\n",
            "Concatenated v and w along columns:\n",
            " [[ 9 10]\n",
            " [11 12]]\n"
          ]
        }
      ]
    },
    {
      "cell_type": "markdown",
      "source": [
        "7. Attempt to concatenate x and v (which will cause an error)"
      ],
      "metadata": {
        "id": "4QC_tvxes_bB"
      }
    },
    {
      "cell_type": "code",
      "source": [
        "try:\n",
        "    v_reshaped = v.reshape(1, -1)\n",
        "    concat_xv = np.concatenate((x, v_reshaped), axis=0)\n",
        "    print(\"Concatenated x and v:\\n\", concat_xv)\n",
        "except ValueError as e:\n",
        "    print(\"Error when concatenating x and v:\", e)"
      ],
      "metadata": {
        "colab": {
          "base_uri": "https://localhost:8080/"
        },
        "id": "9L7mN1lYs_LI",
        "outputId": "cf05ec8f-fe4c-4c10-e8c7-a02d11f07737"
      },
      "execution_count": 27,
      "outputs": [
        {
          "output_type": "stream",
          "name": "stdout",
          "text": [
            "Concatenated x and v:\n",
            " [[ 1  2]\n",
            " [ 3  5]\n",
            " [ 9 10]]\n"
          ]
        }
      ]
    },
    {
      "cell_type": "markdown",
      "source": [
        "Problem- 4: Matrix Operations:"
      ],
      "metadata": {
        "id": "hJ1K9uUWDnUY"
      }
    },
    {
      "cell_type": "markdown",
      "source": [
        "1. Prove\n",
        "𝐴\n",
        "⋅\n",
        "𝐴\n",
        "−\n",
        "1\n",
        "=\n",
        "𝐼\n",
        "A⋅A\n",
        "−1\n",
        " =I"
      ],
      "metadata": {
        "id": "vBXpOIf6Dp7d"
      }
    },
    {
      "cell_type": "code",
      "source": [
        "A = np.array([[3, 4], [7, 8]])\n",
        "A_inv = np.linalg.inv(A)\n",
        "result = np.dot(A, A_inv)\n",
        "\n",
        "print(\"A * A^-1 =\\n\", result)\n"
      ],
      "metadata": {
        "colab": {
          "base_uri": "https://localhost:8080/"
        },
        "id": "vwyP_yKanMFl",
        "outputId": "57123527-f8bb-4d14-afa9-9a1c662a00f3"
      },
      "execution_count": 28,
      "outputs": [
        {
          "output_type": "stream",
          "name": "stdout",
          "text": [
            "A * A^-1 =\n",
            " [[1.00000000e+00 0.00000000e+00]\n",
            " [1.77635684e-15 1.00000000e+00]]\n"
          ]
        }
      ]
    },
    {
      "cell_type": "markdown",
      "source": [
        "2. Prove\n",
        "𝐴\n",
        "𝐵\n",
        "=\n",
        "𝐵\n",
        "𝐴\n",
        "AB=BA"
      ],
      "metadata": {
        "id": "Jk4m8ShwD0YP"
      }
    },
    {
      "cell_type": "code",
      "source": [
        "\n",
        "B = np.array([[5, 3], [2, 1]])\n",
        "\n",
        "AB = np.dot(A, B)\n",
        "BA = np.dot(B, A)\n",
        "\n",
        "print(\"AB =\\n\", AB)\n",
        "print(\"BA =\\n\", BA)\n"
      ],
      "metadata": {
        "colab": {
          "base_uri": "https://localhost:8080/"
        },
        "id": "arIbFEq5D2Ka",
        "outputId": "a9c6662f-9d8d-494b-d7d5-8371ef0cb226"
      },
      "execution_count": 29,
      "outputs": [
        {
          "output_type": "stream",
          "name": "stdout",
          "text": [
            "AB =\n",
            " [[23 13]\n",
            " [51 29]]\n",
            "BA =\n",
            " [[36 44]\n",
            " [13 16]]\n"
          ]
        }
      ]
    },
    {
      "cell_type": "markdown",
      "source": [
        "3. Prove\n",
        "(\n",
        "𝐴\n",
        "𝐵\n",
        ")\n",
        "𝑇\n",
        "=\n",
        "𝐵\n",
        "𝑇\n",
        "𝐴\n",
        "𝑇\n",
        "(AB)\n",
        "T\n",
        " =B\n",
        "T\n",
        " A\n",
        "T"
      ],
      "metadata": {
        "id": "6CipI22VEBP_"
      }
    },
    {
      "cell_type": "code",
      "source": [
        "AB_T = np.transpose(AB)\n",
        "\n",
        "B_T = np.transpose(B)\n",
        "A_T = np.transpose(A)\n",
        "\n",
        "print(\"Transpose of AB =\\n\", AB_T)\n",
        "print(\"B^T * A^T =\\n\", np.dot(B_T, A_T))\n"
      ],
      "metadata": {
        "colab": {
          "base_uri": "https://localhost:8080/"
        },
        "id": "lJN6y39CD_Ab",
        "outputId": "53a61079-2b66-4299-c87f-0b82cd521a83"
      },
      "execution_count": 30,
      "outputs": [
        {
          "output_type": "stream",
          "name": "stdout",
          "text": [
            "Transpose of AB =\n",
            " [[23 51]\n",
            " [13 29]]\n",
            "B^T * A^T =\n",
            " [[23 51]\n",
            " [13 29]]\n"
          ]
        }
      ]
    },
    {
      "cell_type": "markdown",
      "source": [
        "4. Solve the System of Linear Equations using Inverse Methods\n",
        "Given the system of linear equations:\n",
        "\n",
        "2\n",
        "𝑥\n",
        "−\n",
        "3\n",
        "𝑦\n",
        "+\n",
        "𝑧\n",
        "=\n",
        "−\n",
        "1\n",
        "2x−3y+z=−1\n",
        "𝑥\n",
        "−\n",
        "𝑦\n",
        "+\n",
        "2\n",
        "𝑧\n",
        "=\n",
        "−\n",
        "3\n",
        "x−y+2z=−3\n",
        "3\n",
        "𝑥\n",
        "+\n",
        "𝑦\n",
        "−\n",
        "𝑧\n",
        "=\n",
        "9\n",
        "3x+y−z=9\n",
        "This can be written in matrix form as\n",
        "𝐴\n",
        "𝑋\n",
        "=\n",
        "𝐵\n",
        "AX=B, where:\n",
        "\n",
        "𝐴\n",
        "=\n",
        "(\n",
        "2\n",
        "−\n",
        "3\n",
        "1\n",
        "1\n",
        "−\n",
        "1\n",
        "2\n",
        "3\n",
        "1\n",
        "−\n",
        "1\n",
        ")\n",
        "A=\n",
        "​\n",
        "  \n",
        "2\n",
        "1\n",
        "3\n",
        "​\n",
        "  \n",
        "−3\n",
        "−1\n",
        "1\n",
        "​\n",
        "  \n",
        "1\n",
        "2\n",
        "−1\n",
        "​\n",
        "  \n",
        "​\n",
        "\n",
        "𝑋\n",
        "=\n",
        "(\n",
        "𝑥\n",
        "𝑦\n",
        "𝑧\n",
        ")\n",
        "X=\n",
        "​\n",
        "  \n",
        "x\n",
        "y\n",
        "z\n",
        "​\n",
        "  \n",
        "​\n",
        "\n",
        "𝐵\n",
        "=\n",
        "(\n",
        "−\n",
        "1\n",
        "−\n",
        "3\n",
        "9\n",
        ")\n",
        "B=\n",
        "​\n",
        "  \n",
        "−1\n",
        "−3\n",
        "9\n",
        "​\n",
        "  \n",
        "​\n"
      ],
      "metadata": {
        "id": "dJ3rcAgWELFz"
      }
    },
    {
      "cell_type": "code",
      "source": [
        "A_eq = np.array([[2, -3, 1], [1, -1, 2], [3, 1, -1]])\n",
        "B_eq = np.array([-1, -3, 9])\n",
        "\n",
        "\n",
        "A_inv_eq = np.linalg.inv(A_eq)\n",
        "\n",
        "X = np.dot(A_inv_eq, B_eq)\n",
        "\n",
        "print(\"Solution for [x, y, z]:\", X)\n"
      ],
      "metadata": {
        "colab": {
          "base_uri": "https://localhost:8080/"
        },
        "id": "THL-U-1oEC_L",
        "outputId": "4ef5a410-59d0-4dc5-bc4d-e85fc760beb6"
      },
      "execution_count": 31,
      "outputs": [
        {
          "output_type": "stream",
          "name": "stdout",
          "text": [
            "Solution for [x, y, z]: [ 2.  1. -2.]\n"
          ]
        }
      ]
    },
    {
      "cell_type": "markdown",
      "source": [
        "5. Solve the System using np.linalg.inv function"
      ],
      "metadata": {
        "id": "uKo2YfdwEYpb"
      }
    },
    {
      "cell_type": "code",
      "source": [
        "A_eq = np.array([[2, -3, 1], [1, -1, 2], [3, 1, -1]])\n",
        "B_eq = np.array([-1, -3, 9])\n",
        "\n",
        "A_inv_eq = np.linalg.inv(A_eq)\n",
        "\n",
        "X = np.dot(A_inv_eq, B_eq)\n",
        "\n",
        "print(\"Solution for [x, y, z]:\", X)\n"
      ],
      "metadata": {
        "colab": {
          "base_uri": "https://localhost:8080/"
        },
        "id": "u0obfcPvERlO",
        "outputId": "1976a95c-4a2b-4bb3-df5f-b5b505658669"
      },
      "execution_count": 32,
      "outputs": [
        {
          "output_type": "stream",
          "name": "stdout",
          "text": [
            "Solution for [x, y, z]: [ 2.  1. -2.]\n"
          ]
        }
      ]
    },
    {
      "cell_type": "markdown",
      "source": [
        "10.2 Experiment: How Fast is Numpy?"
      ],
      "metadata": {
        "id": "oi_5lac7FFBn"
      }
    },
    {
      "cell_type": "code",
      "source": [
        "import time\n",
        "import numpy as np"
      ],
      "metadata": {
        "id": "URapKa-yFAr6"
      },
      "execution_count": 40,
      "outputs": []
    },
    {
      "cell_type": "markdown",
      "source": [
        " 1. Element-wise Addition"
      ],
      "metadata": {
        "id": "24Q1RBCnE4XT"
      }
    },
    {
      "cell_type": "code",
      "source": [
        "# Using Python Lists\n",
        "list1 = [i for i in range(1000000)]\n",
        "list2 = [i for i in range(1000000)]\n",
        "start_time = time.time()\n",
        "list_sum = [list1[i] + list2[i] for i in range(1000000)]\n",
        "end_time = time.time()\n",
        "print(\"Time taken for element-wise addition with Python lists: \", end_time - start_time)\n",
        "\n",
        "# Using NumPy Arrays\n",
        "np_list1 = np.array(list1)\n",
        "np_list2 = np.array(list2)\n",
        "start_time = time.time()\n",
        "np_sum = np_list1 + np_list2\n",
        "end_time = time.time()\n",
        "print(\"Time taken for element-wise addition with NumPy arrays: \", end_time - start_time)"
      ],
      "metadata": {
        "colab": {
          "base_uri": "https://localhost:8080/"
        },
        "id": "csjdPxyAEyqB",
        "outputId": "f52d8667-37a0-4b63-e55a-0d97f4c20cf9"
      },
      "execution_count": 36,
      "outputs": [
        {
          "output_type": "stream",
          "name": "stdout",
          "text": [
            "Time taken for element-wise addition with Python lists:  0.10387372970581055\n",
            "Time taken for element-wise addition with NumPy arrays:  0.0045168399810791016\n"
          ]
        }
      ]
    },
    {
      "cell_type": "markdown",
      "source": [
        "2. Element-wise Multiplication"
      ],
      "metadata": {
        "id": "5F8UUc1GFOqE"
      }
    },
    {
      "cell_type": "code",
      "source": [
        "# Using Python Lists\n",
        "start_time = time.time()\n",
        "list_mult = [list1[i] * list2[i] for i in range(1000000)]\n",
        "end_time = time.time()\n",
        "print(\"Time taken for element-wise multiplication with Python lists: \", end_time - start_time)\n",
        "\n",
        "# Using NumPy Arrays\n",
        "start_time = time.time()\n",
        "np_mult = np_list1 * np_list2\n",
        "end_time = time.time()\n",
        "print(\"Time taken for element-wise multiplication with NumPy arrays: \", end_time - start_time)\n"
      ],
      "metadata": {
        "colab": {
          "base_uri": "https://localhost:8080/"
        },
        "id": "czqUf4UUFLrf",
        "outputId": "ffbe6605-54be-4fd9-b8f0-1d5d0eaa9211"
      },
      "execution_count": 37,
      "outputs": [
        {
          "output_type": "stream",
          "name": "stdout",
          "text": [
            "Time taken for element-wise multiplication with Python lists:  0.08056926727294922\n",
            "Time taken for element-wise multiplication with NumPy arrays:  0.0025582313537597656\n"
          ]
        }
      ]
    },
    {
      "cell_type": "markdown",
      "source": [
        "3. Dot Product"
      ],
      "metadata": {
        "id": "zrQhjeuIFTl1"
      }
    },
    {
      "cell_type": "code",
      "source": [
        "# Using Python Lists\n",
        "start_time = time.time()\n",
        "list_dot_product = sum(list1[i] * list2[i] for i in range(1000000))\n",
        "end_time = time.time()\n",
        "print(\"Time taken for dot product with Python lists: \", end_time - start_time)\n",
        "\n",
        "# Using NumPy Arrays\n",
        "start_time = time.time()\n",
        "np_dot_product = np.dot(np_list1, np_list2)\n",
        "end_time = time.time()\n",
        "print(\"Time taken for dot product with NumPy arrays: \", end_time - start_time)"
      ],
      "metadata": {
        "colab": {
          "base_uri": "https://localhost:8080/"
        },
        "id": "WDIDSnzaFTOv",
        "outputId": "0a496b9c-cf2c-4c95-fea3-65fb897790a5"
      },
      "execution_count": 38,
      "outputs": [
        {
          "output_type": "stream",
          "name": "stdout",
          "text": [
            "Time taken for dot product with Python lists:  0.11199712753295898\n",
            "Time taken for dot product with NumPy arrays:  0.0024344921112060547\n"
          ]
        }
      ]
    },
    {
      "cell_type": "markdown",
      "source": [
        " 4. Matrix Multiplication"
      ],
      "metadata": {
        "id": "FpxdE2mbFYhO"
      }
    },
    {
      "cell_type": "code",
      "source": [
        "# Using Python Lists\n",
        "matrix1 = [[i + j for j in range(1000)] for i in range(1000)]\n",
        "matrix2 = [[i - j for j in range(1000)] for i in range(1000)]\n",
        "start_time = time.time()\n",
        "matrix_mult = [[sum(matrix1[i][k] * matrix2[k][j] for k in range(1000)) for j in range(1000)] for i in range(1000)]\n",
        "end_time = time.time()\n",
        "print(\"Time taken for matrix multiplication with Python lists: \", end_time - start_time)\n",
        "\n",
        "# Using NumPy Arrays\n",
        "np_matrix1 = np.array(matrix1)\n",
        "np_matrix2 = np.array(matrix2)\n",
        "start_time = time.time()\n",
        "np_matrix_mult = np.dot(np_matrix1, np_matrix2)\n",
        "end_time = time.time()\n",
        "print(\"Time taken for matrix multiplication with NumPy arrays: \", end_time - start_time)\n"
      ],
      "metadata": {
        "colab": {
          "base_uri": "https://localhost:8080/"
        },
        "id": "VeZRAKpWEYeX",
        "outputId": "c43a2e4b-90e8-487f-f0ca-91653e571761"
      },
      "execution_count": 41,
      "outputs": [
        {
          "output_type": "stream",
          "name": "stdout",
          "text": [
            "Time taken for matrix multiplication with Python lists:  193.27796912193298\n",
            "Time taken for matrix multiplication with NumPy arrays:  1.6487815380096436\n"
          ]
        }
      ]
    }
  ]
}